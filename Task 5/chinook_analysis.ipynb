{
 "cells": [
  {
   "cell_type": "code",
   "execution_count": 1,
   "id": "09fcaf99",
   "metadata": {},
   "outputs": [],
   "source": [
    "import sqlite3\n",
    "import pandas as pd\n",
    "\n",
    "conn = sqlite3.connect(\"data/Chinook_Sqlite.sqlite\")"
   ]
  },
  {
   "cell_type": "code",
   "execution_count": 2,
   "id": "839417b9",
   "metadata": {},
   "outputs": [
    {
     "name": "stdout",
     "output_type": "stream",
     "text": [
      "\n",
      "🔹 Top-Selling Products:\n",
      "                      Product  TotalSold\n",
      "0                The Trooper          5\n",
      "1                   Untitled          4\n",
      "2    The Number Of The Beast          4\n",
      "3        Sure Know Something          4\n",
      "4       Hallowed Be Thy Name          4\n",
      "5                   Eruption          4\n",
      "6          Where Eagles Dare          3\n",
      "7  Welcome Home (Sanitarium)          3\n",
      "8             Sweetest Thing          3\n",
      "9                  Surrender          3\n"
     ]
    }
   ],
   "source": [
    "query_top_products = \"\"\"\n",
    "SELECT \n",
    "    t.Name AS Product,\n",
    "    SUM(il.Quantity) AS TotalSold\n",
    "FROM InvoiceLine il\n",
    "JOIN Track t ON il.TrackId = t.TrackId\n",
    "GROUP BY t.Name\n",
    "ORDER BY TotalSold DESC\n",
    "LIMIT 10;\n",
    "\"\"\"\n",
    "df_top_products = pd.read_sql_query(query_top_products, conn)\n",
    "print(\"\\n🔹 Top-Selling Products:\\n\", df_top_products)"
   ]
  },
  {
   "cell_type": "code",
   "execution_count": 4,
   "id": "2dea0032",
   "metadata": {},
   "outputs": [
    {
     "name": "stdout",
     "output_type": "stream",
     "text": [
      "\n",
      "🔹 Revenue Per Country:\n",
      "            Country  Revenue\n",
      "0              USA   523.06\n",
      "1           Canada   303.96\n",
      "2           France   195.10\n",
      "3           Brazil   190.10\n",
      "4          Germany   156.48\n",
      "5   United Kingdom   112.86\n",
      "6   Czech Republic    90.24\n",
      "7         Portugal    77.24\n",
      "8            India    75.26\n",
      "9            Chile    46.62\n",
      "10         Ireland    45.62\n",
      "11         Hungary    45.62\n",
      "12         Austria    42.62\n",
      "13         Finland    41.62\n",
      "14     Netherlands    40.62\n",
      "15          Norway    39.62\n",
      "16          Sweden    38.62\n",
      "17           Spain    37.62\n",
      "18          Poland    37.62\n",
      "19           Italy    37.62\n",
      "20         Denmark    37.62\n",
      "21         Belgium    37.62\n",
      "22       Australia    37.62\n",
      "23       Argentina    37.62\n"
     ]
    }
   ],
   "source": [
    "query_revenue_region = \"\"\"\n",
    "SELECT \n",
    "    c.Country,\n",
    "    ROUND(SUM(il.Quantity * il.UnitPrice), 2) AS Revenue\n",
    "FROM InvoiceLine il\n",
    "JOIN Invoice i ON il.InvoiceId = i.InvoiceId\n",
    "JOIN Customer c ON i.CustomerId = c.CustomerId\n",
    "GROUP BY c.Country\n",
    "ORDER BY Revenue DESC;\n",
    "\"\"\"\n",
    "df_revenue_region = pd.read_sql_query(query_revenue_region, conn)\n",
    "print(\"\\n🔹 Revenue Per Country:\\n\", df_revenue_region)"
   ]
  },
  {
   "cell_type": "code",
   "execution_count": 5,
   "id": "6ab01aac",
   "metadata": {},
   "outputs": [
    {
     "name": "stdout",
     "output_type": "stream",
     "text": [
      "\n",
      "🔹 Monthly Performance:\n",
      "       Month  Revenue\n",
      "0   2009-01    35.64\n",
      "1   2009-02    37.62\n",
      "2   2009-03    37.62\n",
      "3   2009-04    37.62\n",
      "4   2009-05    37.62\n",
      "5   2009-06    37.62\n",
      "6   2009-07    37.62\n",
      "7   2009-08    37.62\n",
      "8   2009-09    37.62\n",
      "9   2009-10    37.62\n",
      "10  2009-11    37.62\n",
      "11  2009-12    37.62\n",
      "12  2010-01    52.62\n",
      "13  2010-02    46.62\n",
      "14  2010-03    44.62\n",
      "15  2010-04    37.62\n",
      "16  2010-05    37.62\n",
      "17  2010-06    37.62\n",
      "18  2010-07    37.62\n",
      "19  2010-08    37.62\n",
      "20  2010-09    36.63\n",
      "21  2010-10    37.62\n",
      "22  2010-11    37.62\n",
      "23  2010-12    37.62\n",
      "24  2011-01    37.62\n",
      "25  2011-02    37.62\n",
      "26  2011-03    37.62\n",
      "27  2011-04    51.62\n",
      "28  2011-05    42.62\n",
      "29  2011-06    50.62\n",
      "30  2011-07    37.62\n",
      "31  2011-08    37.62\n",
      "32  2011-09    37.62\n",
      "33  2011-10    37.62\n",
      "34  2011-11    23.76\n",
      "35  2011-12    37.62\n",
      "36  2012-01    37.62\n",
      "37  2012-02    37.62\n",
      "38  2012-03    37.62\n",
      "39  2012-04    37.62\n",
      "40  2012-05    37.62\n",
      "41  2012-06    37.62\n",
      "42  2012-07    39.62\n",
      "43  2012-08    47.62\n",
      "44  2012-09    46.71\n",
      "45  2012-10    42.62\n",
      "46  2012-11    37.62\n",
      "47  2012-12    37.62\n",
      "48  2013-01    37.62\n",
      "49  2013-02    27.72\n",
      "50  2013-03    37.62\n",
      "51  2013-04    33.66\n",
      "52  2013-05    37.62\n",
      "53  2013-06    37.62\n",
      "54  2013-07    37.62\n",
      "55  2013-08    37.62\n",
      "56  2013-09    37.62\n",
      "57  2013-10    37.62\n",
      "58  2013-11    49.62\n",
      "59  2013-12    38.62\n"
     ]
    }
   ],
   "source": [
    "query_monthly_performance = \"\"\"\n",
    "SELECT \n",
    "    strftime('%Y-%m', i.InvoiceDate) AS Month,\n",
    "    ROUND(SUM(il.Quantity * il.UnitPrice), 2) AS Revenue\n",
    "FROM InvoiceLine il\n",
    "JOIN Invoice i ON il.InvoiceId = i.InvoiceId\n",
    "GROUP BY Month\n",
    "ORDER BY Month;\n",
    "\"\"\"\n",
    "df_monthly_performance = pd.read_sql_query(query_monthly_performance, conn)\n",
    "print(\"\\n🔹 Monthly Performance:\\n\", df_monthly_performance)"
   ]
  },
  {
   "cell_type": "code",
   "execution_count": 6,
   "id": "b60f6f60",
   "metadata": {},
   "outputs": [
    {
     "name": "stdout",
     "output_type": "stream",
     "text": [
      "\n",
      "🔹 Top Products with Album & Artist:\n",
      "                       Track  \\\n",
      "0              A Cor Do Sol   \n",
      "1            A Melhor Forma   \n",
      "2         A Novidade (Live)   \n",
      "3  Abraham, Martin And John   \n",
      "4                 Aces High   \n",
      "\n",
      "                                               Album        Artist  TotalSold  \n",
      "0                                Acústico MTV [Live]  Cidade Negra          2  \n",
      "1                                           Acústico         Titãs          2  \n",
      "2                       Quanta Gente Veio Ver (Live)  Gilberto Gil          2  \n",
      "3  Seek And Shall Find: More Of The Best (1963-1981)   Marvin Gaye          2  \n",
      "4                                         Powerslave   Iron Maiden          2  \n"
     ]
    }
   ],
   "source": [
    "query_products_album_artist = \"\"\"\n",
    "SELECT \n",
    "    t.Name AS Track,\n",
    "    a.Title AS Album,\n",
    "    ar.Name AS Artist,\n",
    "    SUM(il.Quantity) AS TotalSold\n",
    "FROM InvoiceLine il\n",
    "JOIN Track t ON il.TrackId = t.TrackId\n",
    "JOIN Album a ON t.AlbumId = a.AlbumId\n",
    "JOIN Artist ar ON a.ArtistId = ar.ArtistId\n",
    "GROUP BY t.Name, a.Title, ar.Name\n",
    "ORDER BY TotalSold DESC\n",
    "LIMIT 5;\n",
    "\"\"\"\n",
    "df_products_album_artist = pd.read_sql_query(query_products_album_artist, conn)\n",
    "print(\"\\n🔹 Top Products with Album & Artist:\\n\", df_products_album_artist)"
   ]
  },
  {
   "cell_type": "code",
   "execution_count": 7,
   "id": "041cba8a",
   "metadata": {},
   "outputs": [
    {
     "name": "stdout",
     "output_type": "stream",
     "text": [
      "\n",
      "🔹 Ranked Products by Sales (RANK):\n",
      "                      Product  TotalSold  RankBySales\n",
      "0                The Trooper          5            1\n",
      "1                   Untitled          4            2\n",
      "2    The Number Of The Beast          4            2\n",
      "3        Sure Know Something          4            2\n",
      "4       Hallowed Be Thy Name          4            2\n",
      "5                   Eruption          4            2\n",
      "6          Where Eagles Dare          3            7\n",
      "7  Welcome Home (Sanitarium)          3            7\n",
      "8             Sweetest Thing          3            7\n",
      "9                  Surrender          3            7\n"
     ]
    }
   ],
   "source": [
    "query_rank_products = \"\"\"\n",
    "SELECT \n",
    "    t.Name AS Product,\n",
    "    SUM(il.Quantity) AS TotalSold,\n",
    "    RANK() OVER (ORDER BY SUM(il.Quantity) DESC) AS RankBySales\n",
    "FROM InvoiceLine il\n",
    "JOIN Track t ON il.TrackId = t.TrackId\n",
    "GROUP BY t.Name\n",
    "ORDER BY RankBySales;\n",
    "\"\"\"\n",
    "df_rank_products = pd.read_sql_query(query_rank_products, conn)\n",
    "print(\"\\n🔹 Ranked Products by Sales (RANK):\\n\", df_rank_products.head(10))"
   ]
  },
  {
   "cell_type": "code",
   "execution_count": 8,
   "id": "dfd8bdcf",
   "metadata": {},
   "outputs": [
    {
     "name": "stdout",
     "output_type": "stream",
     "text": [
      "\n",
      "🔹 Ranked Products by Sales (ROW_NUMBER):\n",
      "                      Product  TotalSold  RowNum\n",
      "0                The Trooper          5       1\n",
      "1                   Untitled          4       2\n",
      "2    The Number Of The Beast          4       3\n",
      "3        Sure Know Something          4       4\n",
      "4       Hallowed Be Thy Name          4       5\n",
      "5                   Eruption          4       6\n",
      "6          Where Eagles Dare          3       7\n",
      "7  Welcome Home (Sanitarium)          3       8\n",
      "8             Sweetest Thing          3       9\n",
      "9                  Surrender          3      10\n"
     ]
    }
   ],
   "source": [
    "query_rownum_products = \"\"\"\n",
    "SELECT \n",
    "    t.Name AS Product,\n",
    "    SUM(il.Quantity) AS TotalSold,\n",
    "    ROW_NUMBER() OVER (ORDER BY SUM(il.Quantity) DESC) AS RowNum\n",
    "FROM InvoiceLine il\n",
    "JOIN Track t ON il.TrackId = t.TrackId\n",
    "GROUP BY t.Name\n",
    "ORDER BY RowNum;\n",
    "\"\"\"\n",
    "df_rownum_products = pd.read_sql_query(query_rownum_products, conn)\n",
    "print(\"\\n🔹 Ranked Products by Sales (ROW_NUMBER):\\n\", df_rownum_products.head(10))\n",
    "\n",
    "conn.close()"
   ]
  }
 ],
 "metadata": {
  "kernelspec": {
   "display_name": "Python 3",
   "language": "python",
   "name": "python3"
  },
  "language_info": {
   "codemirror_mode": {
    "name": "ipython",
    "version": 3
   },
   "file_extension": ".py",
   "mimetype": "text/x-python",
   "name": "python",
   "nbconvert_exporter": "python",
   "pygments_lexer": "ipython3",
   "version": "3.10.0"
  }
 },
 "nbformat": 4,
 "nbformat_minor": 5
}
